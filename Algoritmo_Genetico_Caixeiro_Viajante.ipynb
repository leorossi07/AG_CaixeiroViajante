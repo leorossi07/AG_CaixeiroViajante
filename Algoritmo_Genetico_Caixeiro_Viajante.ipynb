{
  "cells": [
    {
      "cell_type": "markdown",
      "metadata": {
        "id": "I_MiwKWmLEbH"
      },
      "source": [
        "#### **Nome:** Leonardo Rossi Dourado\n",
        "#### **RA:** 800208"
      ]
    },
    {
      "cell_type": "markdown",
      "metadata": {
        "id": "9JmQCcsNLf92"
      },
      "source": []
    },
    {
      "cell_type": "markdown",
      "metadata": {
        "id": "EeCZq-8J1MmQ"
      },
      "source": [
        "#**O Problema do Caixeiro Viajante - The Travelling Salesman Problem (TSP)**\n",
        "\n",
        "## **Descrição do Problema**\n",
        "\n",
        "  Trata-se de um problema clássico de otimização computacional, onde o objetivo é determinar o caminho mais curto que um vendedor deve percorrer para visitar um conjunto de cidades exatamente uma vez e, em seguida, retornar à cidade de origem.\n",
        "\n",
        "## **Formulação Matemática**\n",
        "  O objetivo é que a soma total seja a mínima possível. Caso o número de cidades seja N, podemos modelar a soma da seguinte forma:\n",
        "\n",
        "#$\\sum_{i=0}^{N} \\sum_{j=0}^{N}  d_{ij} * x_{ij} $\n",
        "\n",
        "Onde:\n",
        "\n",
        "\n",
        "\n",
        "*   $d_{ij} $ é a distância entre as cidades **i** e **j**.\n",
        "*   $x_{ij}$ é uma variável binária que indica se o vendedor vai diretamente de **i** a **j** *(sendo 1 para sim e 0 para não)*.\n",
        "\n",
        "## **Restrições**\n",
        "\n",
        "\n",
        "\n",
        "1.   Cada cidade deve ser visitada exatamente uma vez\n",
        "2.   De cada cidade, deve haver exatamente uma aresta saindo e uma aresta chegando.\n",
        "3.  Evitar subciclos (ciclos que não cobrem todas as cidades).\n",
        "\n",
        "\n",
        "\n"
      ]
    },
    {
      "cell_type": "markdown",
      "metadata": {
        "id": "SksdrotAYToT"
      },
      "source": [
        "# **Algoritmo Genético para Resolução de TSP**\n",
        "\n",
        "De início, temos a importação da biblioteca *random* somente para a futura criação de uma população inicial aleatória."
      ]
    },
    {
      "cell_type": "code",
      "execution_count": 1,
      "metadata": {
        "id": "pC4grIw7ZLSZ"
      },
      "outputs": [],
      "source": [
        "import random as rd"
      ]
    },
    {
      "cell_type": "markdown",
      "metadata": {
        "id": "TnICygNaZR4O"
      },
      "source": [
        "Para a criação de dados, usaremos a matrix fornecidade pelo Google (https://developers.google.com/optimization/routing/tsp?hl=pt-br) que mostra coloca a distância real entre algumas das principais cidades dos Estados Unidos."
      ]
    },
    {
      "cell_type": "code",
      "execution_count": 2,
      "metadata": {
        "id": "50yeRPWHZq8G"
      },
      "outputs": [],
      "source": [
        "def create_data_model():\n",
        "    \"\"\"Stores the data for the problem.\"\"\"\n",
        "    data = {}\n",
        "    data[\"distance_matrix\"] = [\n",
        "        [0, 2451, 713, 1018, 1631, 1374, 2408, 213, 2571, 875, 1420, 2145, 1972],\n",
        "        [2451, 0, 1745, 1524, 831, 1240, 959, 2596, 403, 1589, 1374, 357, 579],\n",
        "        [713, 1745, 0, 355, 920, 803, 1737, 851, 1858, 262, 940, 1453, 1260],\n",
        "        [1018, 1524, 355, 0, 700, 862, 1395, 1123, 1584, 466, 1056, 1280, 987],\n",
        "        [1631, 831, 920, 700, 0, 663, 1021, 1769, 949, 796, 879, 586, 371],\n",
        "        [1374, 1240, 803, 862, 663, 0, 1681, 1551, 1765, 547, 225, 887, 999],\n",
        "        [2408, 959, 1737, 1395, 1021, 1681, 0, 2493, 678, 1724, 1891, 1114, 701],\n",
        "        [213, 2596, 851, 1123, 1769, 1551, 2493, 0, 2699, 1038, 1605, 2300, 2099],\n",
        "        [2571, 403, 1858, 1584, 949, 1765, 678, 2699, 0, 1744, 1645, 653, 600],\n",
        "        [875, 1589, 262, 466, 796, 547, 1724, 1038, 1744, 0, 679, 1272, 1162],\n",
        "        [1420, 1374, 940, 1056, 879, 225, 1891, 1605, 1645, 679, 0, 1017, 1200],\n",
        "        [2145, 357, 1453, 1280, 586, 887, 1114, 2300, 653, 1272, 1017, 0, 504],\n",
        "        [1972, 579, 1260, 987, 371, 999, 701, 2099, 600, 1162, 1200, 504, 0],\n",
        "    ]\n",
        "    data[\"num_vehicles\"] = 1\n",
        "    data[\"depot\"] = 0 # Local de origem. Neste caso, New York\n",
        "    return data\n",
        "\n",
        "\n",
        "data = create_data_model()"
      ]
    },
    {
      "cell_type": "markdown",
      "metadata": {
        "id": "-jqmxzFNZyaq"
      },
      "source": [
        "A matriz de distância é uma matriz cuja entrada **i**, **j** é a distância do local **i** ao local **j** em milhas, em que os índices da matriz correspondem aos locais na seguinte ordem:\n",
        "\n",
        "0. New York - 1. Los Angeles - 2. Chicago - 3. Minneapolis - 4. Denver - 5. Dallas\n",
        " 6. Seattle - 7. Boston - 8. San Francisco - 9. St. Louis - 10. Houston - 11. Phoenix - 12. Salt Lake City"
      ]
    },
    {
      "cell_type": "markdown",
      "metadata": {
        "id": "NfurVg6o4wWv"
      },
      "source": [
        "A função fitness a seguir é medição da qualidade do caminho pela distância percorrida no trajeto do vendedor."
      ]
    },
    {
      "cell_type": "code",
      "execution_count": 3,
      "metadata": {
        "id": "Gzh9c7tQ5DtQ"
      },
      "outputs": [],
      "source": [
        "def fitness(caminho):\n",
        "    distancia_total = 0\n",
        "    for i in range(num_cidades - 1):\n",
        "        cidade_atual = caminho[i]\n",
        "        cidade_prox = caminho[i + 1]\n",
        "        distancia_total += data[\"distance_matrix\"][cidade_atual][cidade_prox]\n",
        "    # Adiciona o retorno a cidade de origem\n",
        "    ultima_cidade = caminho[-1]\n",
        "    primeira_cidade = caminho[0]\n",
        "    distancia_total += data[\"distance_matrix\"][ultima_cidade][primeira_cidade]\n",
        "    return distancia_total\n"
      ]
    },
    {
      "cell_type": "markdown",
      "metadata": {
        "id": "bsAFWV7R5UqZ"
      },
      "source": [
        "Para o início do nosso algoritmo genético, precisamos de uma população inicial para começarmos o processo evolutivo. A função a seguir gera caminhos aleatórios, ou seja, uma população inicial."
      ]
    },
    {
      "cell_type": "code",
      "execution_count": 4,
      "metadata": {
        "id": "kCm-9j-h5kme"
      },
      "outputs": [],
      "source": [
        "def criar_populacao_inicial(tamanho_populacao, depot):\n",
        "    populacao = [rd.sample(range(1, num_cidades), num_cidades - 1) for _ in range(tamanho_populacao)]\n",
        "    # Adiciona o depot no início de cada caminho\n",
        "    populacao = [[depot] + caminho for caminho in populacao]\n",
        "    return populacao"
      ]
    },
    {
      "cell_type": "markdown",
      "metadata": {
        "id": "y4wB1YAW5n_7"
      },
      "source": [
        "Por meio de um torneio, selecionaramos os pais usando a função fitness anterior como chave"
      ]
    },
    {
      "cell_type": "code",
      "execution_count": 5,
      "metadata": {
        "id": "PVEQ2zin64ae"
      },
      "outputs": [],
      "source": [
        "def selecionar_pais(populacao, tamanho_torneio):\n",
        "    torneio = rd.sample(populacao, tamanho_torneio)\n",
        "    vencedor = min(torneio, key=fitness)\n",
        "    return vencedor"
      ]
    },
    {
      "cell_type": "markdown",
      "metadata": {
        "id": "pBQ5UXWM7N_3"
      },
      "source": [
        "Um elemento fundamental do nosso código é o cromossomo e como eles são representados. Aqui, eles serão representados como a sequência das cidades percorridas, onde cada parte do cromossomo é um número inteiro indicando uma cidade.\n",
        "Com isso, faremos o crossover da seguinte maneira:"
      ]
    },
    {
      "cell_type": "code",
      "execution_count": 6,
      "metadata": {
        "id": "B6W4AYIb7dzx"
      },
      "outputs": [],
      "source": [
        "def crossover(pai1, pai2):\n",
        "    ponto_corte1 = rd.randint(1, num_cidades - 1)\n",
        "    ponto_corte2 = rd.randint(ponto_corte1 + 1, num_cidades)\n",
        "    filho = [-1] * num_cidades\n",
        "    filho[ponto_corte1:ponto_corte2] = pai1[ponto_corte1:ponto_corte2]\n",
        "\n",
        "    # Preenche o restante do filho com genes do pai2\n",
        "    idx_pai2 = 0\n",
        "    for i in range(num_cidades):\n",
        "        if filho[i] == -1:\n",
        "            while pai2[idx_pai2] in filho:\n",
        "                idx_pai2 += 1\n",
        "            filho[i] = pai2[idx_pai2]\n",
        "\n",
        "    return filho"
      ]
    },
    {
      "cell_type": "markdown",
      "metadata": {
        "id": "1-RXunoM-ajh"
      },
      "source": [
        "A última função que iremos criar é a de mutação, responsável por garantir uma variabilidade genética, trocando alguns genes de posição."
      ]
    },
    {
      "cell_type": "code",
      "execution_count": 8,
      "metadata": {
        "id": "uAP52wTv-nZ5"
      },
      "outputs": [],
      "source": [
        "def mutacao(individuo, depot):\n",
        "    idx1, idx2 = rd.sample(range(1, num_cidades), 2)  # Evitar o depot na mutação\n",
        "    individuo[idx1], individuo[idx2] = individuo[idx2], individuo[idx1]\n",
        "\n",
        "    # Garantir que o depot esteja sempre na primeira posição\n",
        "    idx_depot = individuo.index(depot)\n",
        "    individuo[0], individuo[idx_depot] = individuo[idx_depot], individuo[0]\n",
        "\n",
        "    return individuo"
      ]
    },
    {
      "cell_type": "markdown",
      "metadata": {
        "id": "mOpELUSFKu_A"
      },
      "source": [
        "Devemos ajustar os parâmetros para obtermos resultados, em média, melhores."
      ]
    },
    {
      "cell_type": "code",
      "execution_count": 9,
      "metadata": {
        "id": "pPyTZCbfKrGZ"
      },
      "outputs": [],
      "source": [
        "# Parâmetros para o A.G.\n",
        "tamanho_populacao = 100\n",
        "taxa_crossover = 0.8\n",
        "taxa_mutacao = 0.1\n",
        "geracoes = 100"
      ]
    },
    {
      "cell_type": "markdown",
      "metadata": {
        "id": "t7Thklrx_so6"
      },
      "source": [
        "Finalmente, aplicamos o Algoritmo Genético"
      ]
    },
    {
      "cell_type": "code",
      "execution_count": 10,
      "metadata": {
        "colab": {
          "base_uri": "https://localhost:8080/"
        },
        "id": "yH7PsqFsJaEj",
        "outputId": "59ee1f6c-ffb7-427a-a815-e3eb57d3c9be"
      },
      "outputs": [
        {
          "name": "stdout",
          "output_type": "stream",
          "text": [
            "Melhor Caminho: [0, 7, 3, 11, 1, 8, 6, 12, 4, 5, 10, 9, 2]\n",
            "Melhor Distância: 7668\n",
            "Melhor Caminho em Termos de Cidades:\n",
            "['New York', 'Boston', 'Minneapolis', 'Phoenix', 'Los Angeles', 'San Francisco', 'Seattle', 'Salt Lake City', 'Denver', 'Dallas', 'Houston', 'St. Louis', 'Chicago']\n"
          ]
        }
      ],
      "source": [
        "num_cidades = len(data[\"distance_matrix\"])\n",
        "\n",
        "populacao = criar_populacao_inicial(tamanho_populacao, data[\"depot\"])\n",
        "\n",
        "\n",
        "for geracao in range(geracoes):\n",
        "    nova_populacao = []\n",
        "\n",
        "    for _ in range(tamanho_populacao // 2):\n",
        "        pai1 = selecionar_pais(populacao, 5)\n",
        "        pai2 = selecionar_pais(populacao, 5)\n",
        "\n",
        "        filho1 = crossover(pai1, pai2)\n",
        "        filho2 = crossover(pai2, pai1)\n",
        "\n",
        "        filho1 = mutacao(filho1, data[\"depot\"]) if rd.uniform(0, 1) < taxa_mutacao else filho1\n",
        "        filho2 = mutacao(filho2, data[\"depot\"]) if rd.uniform(0, 1) < taxa_mutacao else filho2\n",
        "\n",
        "\n",
        "        nova_populacao.extend([filho1, filho2])\n",
        "\n",
        "    populacao = nova_populacao\n",
        "\n",
        "melhor_caminho = min(populacao, key=fitness)\n",
        "melhor_distancia = fitness(melhor_caminho)\n",
        "\n",
        "print(\"Melhor Caminho:\", melhor_caminho)\n",
        "print(\"Melhor Distância:\", melhor_distancia)\n",
        "\n",
        "# Nomes das cidades\n",
        "nomes_cidades = [\n",
        "    \"New York\", \"Los Angeles\", \"Chicago\", \"Minneapolis\", \"Denver\", \"Dallas\",\n",
        "    \"Seattle\", \"Boston\", \"San Francisco\", \"St. Louis\", \"Houston\", \"Phoenix\", \"Salt Lake City\"\n",
        "]\n",
        "\n",
        "# Exibir o caminho em termos de cidades\n",
        "caminho_cidades = [nomes_cidades[cidade] for cidade in melhor_caminho]\n",
        "\n",
        "print(\"Melhor Caminho em Termos de Cidades:\")\n",
        "print(caminho_cidades)"
      ]
    },
    {
      "cell_type": "markdown",
      "metadata": {
        "id": "CyzJWq_MJ_qG"
      },
      "source": [
        "# Observação\n",
        "O problema do Caixeiro Viajante (TSP) é um problema NP-difícil, o que significa que não existe um algoritmo conhecido que resolva eficientemente todos os casos em tempo polinomial. Portanto, não é possível garantir sempre a menor distância possível para instâncias grandes do problema.\n",
        "\n",
        "O que pode fazer é ajustar os parâmetros para encontrar, em média, o melhor caminho."
      ]
    }
  ],
  "metadata": {
    "colab": {
      "provenance": []
    },
    "kernelspec": {
      "display_name": "Python 3",
      "name": "python3"
    },
    "language_info": {
      "codemirror_mode": {
        "name": "ipython",
        "version": 3
      },
      "file_extension": ".py",
      "mimetype": "text/x-python",
      "name": "python",
      "nbconvert_exporter": "python",
      "pygments_lexer": "ipython3",
      "version": "3.12.2"
    }
  },
  "nbformat": 4,
  "nbformat_minor": 0
}
